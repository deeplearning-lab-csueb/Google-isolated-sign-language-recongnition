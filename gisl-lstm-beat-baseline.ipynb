{
 "cells": [
  {
   "cell_type": "markdown",
   "id": "4b59bdea",
   "metadata": {
    "papermill": {
     "duration": 0.009273,
     "end_time": "2024-02-23T19:35:52.934841",
     "exception": false,
     "start_time": "2024-02-23T19:35:52.925568",
     "status": "completed"
    },
    "tags": []
   },
   "source": [
    "# Introduction\n",
    "\n",
    "This notebook is created for [Kaggle's Sign Langueage Classifier Competition](https://www.kaggle.com/competitions/asl-signs/code)\n",
    "\n",
    "In this notebook was inspired by some other notebooks:\n",
    "\n",
    "- We used the preprocessed tensorflow Dataset from [tfdataset-of-google-isl-recognition-data](https://www.kaggle.com/datasets/aapokossi/saved-tfdataset-of-google-isl-recognition-data).\n",
    "\n",
    "- We train our model following the notebook. [Submission for variable length time-series model](https://www.kaggle.com/code/aapokossi/submission-for-variable-length-time-series-model) and [LSTM Baseline for Starters - Sign Language eeff0f](https://www.kaggle.com/code/stanptown/lstm-baseline-for-starters-sign-language-eeff0f). We did more careful feature engineering, and tried tunning the layers, other hyper-parameter and/or the epoch to increase the accuracy.\n"
   ]
  },
  {
   "cell_type": "markdown",
   "id": "15a3bcda",
   "metadata": {
    "papermill": {
     "duration": 0.007985,
     "end_time": "2024-02-23T19:35:52.967122",
     "exception": false,
     "start_time": "2024-02-23T19:35:52.959137",
     "status": "completed"
    },
    "tags": []
   },
   "source": [
    "<a id=\"section-one\"></a>\n",
    "# Import Libraries and Set File Directories"
   ]
  },
  {
   "cell_type": "code",
   "execution_count": 1,
   "id": "aae9cc37",
   "metadata": {
    "_cell_guid": "b1076dfc-b9ad-4769-8c92-a6c4dae69d19",
    "_uuid": "8f2839f25d086af736a60e9eeb907d3b93b6e0e5",
    "execution": {
     "iopub.execute_input": "2024-02-23T19:35:52.984931Z",
     "iopub.status.busy": "2024-02-23T19:35:52.984530Z",
     "iopub.status.idle": "2024-02-23T19:36:00.796117Z",
     "shell.execute_reply": "2024-02-23T19:36:00.795134Z"
    },
    "papermill": {
     "duration": 7.82387,
     "end_time": "2024-02-23T19:36:00.798966",
     "exception": false,
     "start_time": "2024-02-23T19:35:52.975096",
     "status": "completed"
    },
    "tags": []
   },
   "outputs": [],
   "source": [
    "# import libraries\n",
    "import pandas as pd\n",
    "import numpy as np\n",
    "import matplotlib.pyplot as plt\n",
    "import tensorflow as tf\n",
    "from tensorflow.keras import layers, optimizers"
   ]
  },
  {
   "cell_type": "code",
   "execution_count": 2,
   "id": "09de80d7",
   "metadata": {
    "execution": {
     "iopub.execute_input": "2024-02-23T19:36:00.817221Z",
     "iopub.status.busy": "2024-02-23T19:36:00.816499Z",
     "iopub.status.idle": "2024-02-23T19:36:00.821606Z",
     "shell.execute_reply": "2024-02-23T19:36:00.820619Z"
    },
    "papermill": {
     "duration": 0.016527,
     "end_time": "2024-02-23T19:36:00.823843",
     "exception": false,
     "start_time": "2024-02-23T19:36:00.807316",
     "status": "completed"
    },
    "tags": []
   },
   "outputs": [],
   "source": [
    "# set files directories\n",
    "LANDMARK_FILES_DIR = \"/kaggle/input/asl-signs/train_landmark_files\"\n",
    "TRAIN_FILE = \"/kaggle/input/asl-signs/train.csv\""
   ]
  },
  {
   "cell_type": "markdown",
   "id": "6ae37b2d",
   "metadata": {
    "papermill": {
     "duration": 0.00772,
     "end_time": "2024-02-23T19:36:00.839693",
     "exception": false,
     "start_time": "2024-02-23T19:36:00.831973",
     "status": "completed"
    },
    "tags": []
   },
   "source": [
    "<a id=\"section-two\"></a>\n",
    "# Visualize data\n",
    " More detailed visualization including creating gif for a sign video with landmarks is in another notebook. "
   ]
  },
  {
   "cell_type": "code",
   "execution_count": 3,
   "id": "9e2f1bff",
   "metadata": {
    "execution": {
     "iopub.execute_input": "2024-02-23T19:36:00.872569Z",
     "iopub.status.busy": "2024-02-23T19:36:00.872226Z",
     "iopub.status.idle": "2024-02-23T19:36:01.023915Z",
     "shell.execute_reply": "2024-02-23T19:36:01.022858Z"
    },
    "papermill": {
     "duration": 0.163265,
     "end_time": "2024-02-23T19:36:01.026422",
     "exception": false,
     "start_time": "2024-02-23T19:36:00.863157",
     "status": "completed"
    },
    "tags": []
   },
   "outputs": [
    {
     "data": {
      "text/html": [
       "<div>\n",
       "<style scoped>\n",
       "    .dataframe tbody tr th:only-of-type {\n",
       "        vertical-align: middle;\n",
       "    }\n",
       "\n",
       "    .dataframe tbody tr th {\n",
       "        vertical-align: top;\n",
       "    }\n",
       "\n",
       "    .dataframe thead th {\n",
       "        text-align: right;\n",
       "    }\n",
       "</style>\n",
       "<table border=\"1\" class=\"dataframe\">\n",
       "  <thead>\n",
       "    <tr style=\"text-align: right;\">\n",
       "      <th></th>\n",
       "      <th>frame</th>\n",
       "      <th>row_id</th>\n",
       "      <th>type</th>\n",
       "      <th>landmark_index</th>\n",
       "      <th>x</th>\n",
       "      <th>y</th>\n",
       "      <th>z</th>\n",
       "    </tr>\n",
       "  </thead>\n",
       "  <tbody>\n",
       "    <tr>\n",
       "      <th>0</th>\n",
       "      <td>103</td>\n",
       "      <td>103-face-0</td>\n",
       "      <td>face</td>\n",
       "      <td>0</td>\n",
       "      <td>0.437886</td>\n",
       "      <td>0.437599</td>\n",
       "      <td>-0.051134</td>\n",
       "    </tr>\n",
       "    <tr>\n",
       "      <th>1</th>\n",
       "      <td>103</td>\n",
       "      <td>103-face-1</td>\n",
       "      <td>face</td>\n",
       "      <td>1</td>\n",
       "      <td>0.443258</td>\n",
       "      <td>0.392901</td>\n",
       "      <td>-0.067054</td>\n",
       "    </tr>\n",
       "    <tr>\n",
       "      <th>2</th>\n",
       "      <td>103</td>\n",
       "      <td>103-face-2</td>\n",
       "      <td>face</td>\n",
       "      <td>2</td>\n",
       "      <td>0.443997</td>\n",
       "      <td>0.409998</td>\n",
       "      <td>-0.042990</td>\n",
       "    </tr>\n",
       "    <tr>\n",
       "      <th>3</th>\n",
       "      <td>103</td>\n",
       "      <td>103-face-3</td>\n",
       "      <td>face</td>\n",
       "      <td>3</td>\n",
       "      <td>0.435256</td>\n",
       "      <td>0.362771</td>\n",
       "      <td>-0.039492</td>\n",
       "    </tr>\n",
       "    <tr>\n",
       "      <th>4</th>\n",
       "      <td>103</td>\n",
       "      <td>103-face-4</td>\n",
       "      <td>face</td>\n",
       "      <td>4</td>\n",
       "      <td>0.443780</td>\n",
       "      <td>0.381762</td>\n",
       "      <td>-0.068013</td>\n",
       "    </tr>\n",
       "  </tbody>\n",
       "</table>\n",
       "</div>"
      ],
      "text/plain": [
       "   frame      row_id  type  landmark_index         x         y         z\n",
       "0    103  103-face-0  face               0  0.437886  0.437599 -0.051134\n",
       "1    103  103-face-1  face               1  0.443258  0.392901 -0.067054\n",
       "2    103  103-face-2  face               2  0.443997  0.409998 -0.042990\n",
       "3    103  103-face-3  face               3  0.435256  0.362771 -0.039492\n",
       "4    103  103-face-4  face               4  0.443780  0.381762 -0.068013"
      ]
     },
     "execution_count": 3,
     "metadata": {},
     "output_type": "execute_result"
    }
   ],
   "source": [
    "# read the data, the type of the data\n",
    "sample = pd.read_parquet(\"/kaggle/input/asl-signs/train_landmark_files/16069/100015657.parquet\")\n",
    "sample.head()"
   ]
  },
  {
   "cell_type": "markdown",
   "id": "4858af0a",
   "metadata": {
    "papermill": {
     "duration": 0.011788,
     "end_time": "2024-02-23T19:36:02.661880",
     "exception": false,
     "start_time": "2024-02-23T19:36:02.650092",
     "status": "completed"
    },
    "tags": []
   },
   "source": [
    "<a id=\"section-three\"></a>\n",
    "# Load Data"
   ]
  },
  {
   "cell_type": "code",
   "execution_count": 5,
   "id": "3756e291",
   "metadata": {
    "execution": {
     "iopub.execute_input": "2024-02-23T19:36:02.686308Z",
     "iopub.status.busy": "2024-02-23T19:36:02.685531Z",
     "iopub.status.idle": "2024-02-23T19:36:02.700896Z",
     "shell.execute_reply": "2024-02-23T19:36:02.699901Z"
    },
    "papermill": {
     "duration": 0.030748,
     "end_time": "2024-02-23T19:36:02.703846",
     "exception": false,
     "start_time": "2024-02-23T19:36:02.673098",
     "status": "completed"
    },
    "tags": []
   },
   "outputs": [
    {
     "name": "stdout",
     "output_type": "stream",
     "text": [
      "118\n",
      "[0, 61, 185, 40, 39, 37, 267, 269, 270, 409, 291, 146, 91, 181, 84, 17, 314, 405, 321, 375, 78, 191, 80, 81, 82, 13, 312, 311, 310, 415, 95, 88, 178, 87, 14, 317, 402, 318, 324, 308, 468, 469, 470, 471, 472, 473, 474, 475, 476, 477, 478, 479, 480, 481, 482, 483, 484, 485, 486, 487, 488, 522, 523, 524, 525, 526, 527, 528, 529, 530, 531, 532, 533, 534, 535, 536, 537, 538, 539, 540, 541, 542, 1, 2, 98, 327, 33, 7, 163, 144, 145, 153, 154, 155, 133, 246, 161, 160, 159, 158, 157, 173, 263, 249, 390, 373, 374, 380, 381, 382, 362, 466, 388, 387, 386, 385, 384, 398]\n"
     ]
    }
   ],
   "source": [
    "# Set constants and pick important landmarks\n",
    "# larnmarks first try\n",
    "# LANDMARK_IDX = [0,9,11,13,14,17,117,118,119,199,346,347,348] + list(range(468,543))\n",
    "\n",
    "# better landmarks as features\n",
    "NOSE=[\n",
    "    1,2,98,327\n",
    "]\n",
    "LNOSE = [98]\n",
    "RNOSE = [327]\n",
    "LIP = [ 0, \n",
    "    61, 185, 40, 39, 37, 267, 269, 270, 409,\n",
    "    291, 146, 91, 181, 84, 17, 314, 405, 321, 375,\n",
    "    78, 191, 80, 81, 82, 13, 312, 311, 310, 415,\n",
    "    95, 88, 178, 87, 14, 317, 402, 318, 324, 308,\n",
    "]\n",
    "LLIP = [84,181,91,146,61,185,40,39,37,87,178,88,95,78,191,80,81,82]\n",
    "RLIP = [314,405,321,375,291,409,270,269,267,317,402,318,324,308,415,310,311,312]\n",
    "\n",
    "POSE = [500, 502, 504, 501, 503, 505, 512, 513]\n",
    "LPOSE = [513,505,503,501]\n",
    "RPOSE = [512,504,502,500]\n",
    "\n",
    "REYE = [\n",
    "    33, 7, 163, 144, 145, 153, 154, 155, 133,\n",
    "    246, 161, 160, 159, 158, 157, 173,\n",
    "]\n",
    "LEYE = [\n",
    "    263, 249, 390, 373, 374, 380, 381, 382, 362,\n",
    "    466, 388, 387, 386, 385, 384, 398,\n",
    "]\n",
    "\n",
    "LHAND = np.arange(468, 489).tolist()\n",
    "RHAND = np.arange(522, 543).tolist()\n",
    "\n",
    "LANDMARK_IDX = LIP + LHAND + RHAND + NOSE + REYE + LEYE #+POSE\n",
    "\n",
    "print(len(LANDMARK_IDX))\n",
    "print(LANDMARK_IDX)\n",
    "\n",
    "DATA_PATH = \"/kaggle/input/saved-tfdataset-of-google-isl-recognition-data/GoogleISLDatasetBatched\"\n",
    "DS_CARDINALITY = 185\n",
    "VAL_SIZE  = 20\n",
    "N_SIGNS = 250\n",
    "ROWS_PER_FRAME = 543"
   ]
  },
  {
   "cell_type": "code",
   "execution_count": 6,
   "id": "97bdcb2c",
   "metadata": {
    "execution": {
     "iopub.execute_input": "2024-02-23T19:36:02.728279Z",
     "iopub.status.busy": "2024-02-23T19:36:02.727923Z",
     "iopub.status.idle": "2024-02-23T19:36:02.735378Z",
     "shell.execute_reply": "2024-02-23T19:36:02.734439Z"
    },
    "papermill": {
     "duration": 0.021839,
     "end_time": "2024-02-23T19:36:02.737484",
     "exception": false,
     "start_time": "2024-02-23T19:36:02.715645",
     "status": "completed"
    },
    "tags": []
   },
   "outputs": [
    {
     "data": {
      "text/plain": [
       "88"
      ]
     },
     "execution_count": 6,
     "metadata": {},
     "output_type": "execute_result"
    }
   ],
   "source": [
    "len([0,9,11,13,14,17,117,118,119,199,346,347,348] + list(range(468,543)))"
   ]
  },
  {
   "cell_type": "markdown",
   "id": "861c89a2",
   "metadata": {
    "papermill": {
     "duration": 0.011181,
     "end_time": "2024-02-23T19:36:02.760119",
     "exception": false,
     "start_time": "2024-02-23T19:36:02.748938",
     "status": "completed"
    },
    "tags": []
   },
   "source": [
    "To keep it simple, we will use the preprocessed [tf.Dataset](https://www.tensorflow.org/api_docs/python/tf/data/Dataset) from [tfdataset-of-google-isl-recognition-data](https://www.kaggle.com/datasets/aapokossi/saved-tfdataset-of-google-isl-recognition-data)."
   ]
  },
  {
   "cell_type": "code",
   "execution_count": 7,
   "id": "b42844f5",
   "metadata": {
    "execution": {
     "iopub.execute_input": "2024-02-23T19:36:02.784366Z",
     "iopub.status.busy": "2024-02-23T19:36:02.784003Z",
     "iopub.status.idle": "2024-02-23T19:36:06.354185Z",
     "shell.execute_reply": "2024-02-23T19:36:06.353031Z"
    },
    "papermill": {
     "duration": 3.585494,
     "end_time": "2024-02-23T19:36:06.356934",
     "exception": false,
     "start_time": "2024-02-23T19:36:02.771440",
     "status": "completed"
    },
    "tags": []
   },
   "outputs": [],
   "source": [
    "def preprocess(ragged_batch, labels):\n",
    "    ragged_batch = tf.gather(ragged_batch, LANDMARK_IDX, axis=2)\n",
    "    ragged_batch = tf.where(tf.math.is_nan(ragged_batch), tf.zeros_like(ragged_batch), ragged_batch)\n",
    "    return tf.concat([ragged_batch[...,i] for i in range(3)],-1), labels\n",
    "\n",
    "dataset = tf.data.Dataset.load(DATA_PATH)\n",
    "dataset = dataset.map(preprocess)\n",
    "val_ds = dataset.take(VAL_SIZE).cache().prefetch(tf.data.AUTOTUNE)\n",
    "train_ds = dataset.skip(VAL_SIZE).cache().shuffle(20).prefetch(tf.data.AUTOTUNE)"
   ]
  },
  {
   "cell_type": "markdown",
   "id": "fc7a2eaf",
   "metadata": {
    "papermill": {
     "duration": 0.011586,
     "end_time": "2024-02-23T19:36:06.381543",
     "exception": false,
     "start_time": "2024-02-23T19:36:06.369957",
     "status": "completed"
    },
    "tags": []
   },
   "source": [
    "<a id=\"section-four\"></a>\n",
    "# Train Model"
   ]
  },
  {
   "cell_type": "code",
   "execution_count": 8,
   "id": "f79bdb64",
   "metadata": {
    "execution": {
     "iopub.execute_input": "2024-02-23T19:36:06.406204Z",
     "iopub.status.busy": "2024-02-23T19:36:06.405819Z",
     "iopub.status.idle": "2024-02-23T19:36:06.411135Z",
     "shell.execute_reply": "2024-02-23T19:36:06.410081Z"
    },
    "papermill": {
     "duration": 0.020333,
     "end_time": "2024-02-23T19:36:06.413583",
     "exception": false,
     "start_time": "2024-02-23T19:36:06.393250",
     "status": "completed"
    },
    "tags": []
   },
   "outputs": [
    {
     "name": "stdout",
     "output_type": "stream",
     "text": [
      "<MapDataset element_spec=(RaggedTensorSpec(TensorShape([None, None, 354]), tf.float32, 1, tf.int64), TensorSpec(shape=(None, 1), dtype=tf.int64, name=None))>\n"
     ]
    }
   ],
   "source": [
    "print(dataset)"
   ]
  },
  {
   "cell_type": "markdown",
   "id": "39e9b582",
   "metadata": {
    "papermill": {
     "duration": 0.01123,
     "end_time": "2024-02-23T19:36:06.436463",
     "exception": false,
     "start_time": "2024-02-23T19:36:06.425233",
     "status": "completed"
    },
    "tags": []
   },
   "source": [
    "Now let us get to the fun part, training the model!"
   ]
  },
  {
   "cell_type": "code",
   "execution_count": 9,
   "id": "bd363cdc",
   "metadata": {
    "execution": {
     "iopub.execute_input": "2024-02-23T19:36:06.460930Z",
     "iopub.status.busy": "2024-02-23T19:36:06.460522Z",
     "iopub.status.idle": "2024-02-23T19:36:06.473188Z",
     "shell.execute_reply": "2024-02-23T19:36:06.472125Z"
    },
    "papermill": {
     "duration": 0.027514,
     "end_time": "2024-02-23T19:36:06.475393",
     "exception": false,
     "start_time": "2024-02-23T19:36:06.447879",
     "status": "completed"
    },
    "tags": []
   },
   "outputs": [],
   "source": [
    "# include early stopping and reducelr\n",
    "def get_callbacks():\n",
    "    return [\n",
    "            tf.keras.callbacks.EarlyStopping(\n",
    "            monitor=\"val_accuracy\",\n",
    "            patience=10,\n",
    "            restore_best_weights=True\n",
    "        ),\n",
    "        tf.keras.callbacks.ReduceLROnPlateau(\n",
    "            monitor = \"val_accuracy\",\n",
    "            factor = 0.5,\n",
    "            patience = 3\n",
    "        ),\n",
    "    ]\n",
    "\n",
    "# # Custom callback to update weight decay with learning rate\n",
    "# class WeightDecayCallback(tf.keras.callbacks.Callback):\n",
    "#     def __init__(self, wd_ratio=0.05):\n",
    "#         self.step_counter = 0\n",
    "#         self.wd_ratio = wd_ratio\n",
    "    \n",
    "#     def on_epoch_begin(self, epoch, logs=None):\n",
    "#         model.optimizer.weight_decay = model.optimizer.learning_rate * self.wd_ratio\n",
    "#         print(f'learning rate: {model.optimizer.learning_rate.numpy():.2e}, weight decay: {model.optimizer.weight_decay.numpy():.2e}')\n",
    "\n",
    "# def get_callbacks():\n",
    "#     return [\n",
    "# #             tf.keras.callbacks.EarlyStopping(\n",
    "# #             monitor=\"val_accuracy\",\n",
    "# #             patience=10,\n",
    "# #             restore_best_weights=True\n",
    "# #         ),\n",
    "#         WeightDecayCallback(0.05),\n",
    "# #         tf.keras.callbacks.ReduceLROnPlateau(\n",
    "# #             monitor = \"val_accuracy\",\n",
    "# #             factor = 0.5,\n",
    "# #             patience = 3\n",
    "# #         ),\n",
    "#     ]\n",
    "\n",
    "# a single dense block followed by a normalization block and relu activation\n",
    "def dense_block(units, name):\n",
    "    fc = layers.Dense(units)\n",
    "    norm = layers.LayerNormalization()\n",
    "    act = layers.Activation(\"gelu\")\n",
    "    return lambda x: act(norm(fc(x)))\n",
    "def dense_b1(units, name):\n",
    "    fc = layers.Dense(units,activation=\"gelu\")\n",
    "    return lambda x: fc(x)\n",
    "def dense_b(units, name):\n",
    "    fc = layers.Dense(units,activation=\"softmax\")\n",
    "    return lambda x: fc(x)\n",
    "def classifier1(lstm_units):\n",
    "#     lstm = layers.LSTM(lstm_units)\n",
    "    lstm = layers.LSTM(lstm_units,return_sequences=True)\n",
    "#     norm = layers.LayerNormalization()\n",
    "#     act = layers.Activation(\"gelu\")\n",
    "#     out = layers.Dense(N_SIGNS, activation=\"softmax\")\n",
    "#     lstm = layers.LSTM(int(lstm_units/2))\n",
    "#     out = layers.Dense(N_SIGNS, activation=\"softmax\")\n",
    "    return lambda x: lstm(x)\n",
    "# the lstm block with the final dense block for the classification\n",
    "def classifier(lstm_units):\n",
    "#     lstm = layers.LSTM(lstm_units)\n",
    "    lstm = layers.LSTM(lstm_units)\n",
    "#     norm = layers.LayerNormalization()\n",
    "#     act = layers.Activation(\"gelu\")\n",
    "#     out = layers.Dense(N_SIGNS, activation=\"softmax\")\n",
    "#     lstm = layers.LSTM(int(lstm_units/2))\n",
    "#     out = layers.Dense(N_SIGNS, activation=\"softmax\")\n",
    "    return lambda x: lstm(x)"
   ]
  },
  {
   "cell_type": "code",
   "execution_count": 10,
   "id": "9b48864d",
   "metadata": {
    "execution": {
     "iopub.execute_input": "2024-02-23T19:36:06.499675Z",
     "iopub.status.busy": "2024-02-23T19:36:06.499043Z",
     "iopub.status.idle": "2024-02-23T19:36:07.416473Z",
     "shell.execute_reply": "2024-02-23T19:36:07.415214Z"
    },
    "papermill": {
     "duration": 0.944266,
     "end_time": "2024-02-23T19:36:07.431020",
     "exception": false,
     "start_time": "2024-02-23T19:36:06.486754",
     "status": "completed"
    },
    "tags": []
   },
   "outputs": [
    {
     "name": "stdout",
     "output_type": "stream",
     "text": [
      "512\n",
      "256\n",
      "Model: \"model\"\n",
      "_________________________________________________________________\n",
      " Layer (type)                Output Shape              Param #   \n",
      "=================================================================\n",
      " input_1 (InputLayer)        [(None, None, 354)]       0         \n",
      "                                                                 \n",
      " dense (Dense)               (None, None, 512)         181760    \n",
      "                                                                 \n",
      " layer_normalization (LayerN  (None, None, 512)        1024      \n",
      " ormalization)                                                   \n",
      "                                                                 \n",
      " activation (Activation)     (None, None, 512)         0         \n",
      "                                                                 \n",
      " dense_1 (Dense)             (None, None, 256)         131328    \n",
      "                                                                 \n",
      " layer_normalization_1 (Laye  (None, None, 256)        512       \n",
      " rNormalization)                                                 \n",
      "                                                                 \n",
      " activation_1 (Activation)   (None, None, 256)         0         \n",
      "                                                                 \n",
      " dropout (Dropout)           (None, None, 256)         0         \n",
      "                                                                 \n",
      " lstm (LSTM)                 (None, None, 256)         525312    \n",
      "                                                                 \n",
      " dropout_1 (Dropout)         (None, None, 256)         0         \n",
      "                                                                 \n",
      " lstm_1 (LSTM)               (None, 256)               525312    \n",
      "                                                                 \n",
      " dropout_2 (Dropout)         (None, 256)               0         \n",
      "                                                                 \n",
      " dense_2 (Dense)             (None, 256)               65792     \n",
      "                                                                 \n",
      " dense_3 (Dense)             (None, 250)               64250     \n",
      "                                                                 \n",
      "=================================================================\n",
      "Total params: 1,495,290\n",
      "Trainable params: 1,495,290\n",
      "Non-trainable params: 0\n",
      "_________________________________________________________________\n"
     ]
    }
   ],
   "source": [
    "# choose the number of nodes per layer\n",
    "encoder_units = [512,256] # tune this\n",
    "lstm_units = 256 # tune this\n",
    "\n",
    "#define the inputs (ragged batches of time series of landmark coordinates)\n",
    "inputs = tf.keras.Input(shape=(None,3*len(LANDMARK_IDX)), ragged=True)\n",
    "\n",
    "# dense encoder model\n",
    "x = inputs\n",
    "for i, n in enumerate(encoder_units):\n",
    "    print(n)\n",
    "    x = dense_block(n, f\"encoder_{i}\")(x)\n",
    "# x= dense_b1(256,\"encoder250\")(x)    \n",
    "x = layers.Dropout(0.4)(x)\n",
    "\n",
    "# classifier model\n",
    "x = classifier1(lstm_units)(x)\n",
    "# print(x)\n",
    "\n",
    "# x = tf.expand_dims(out, axis=0)\n",
    "# x = classifier(lstm_units,\"LSTMx\")(x)\n",
    "x = layers.Dropout(0.4)(x)\n",
    "x = classifier(lstm_units)(x)\n",
    "x = layers.Dropout(0.4)(x)\n",
    "x= dense_b1(256,\"encoder250\")(x)\n",
    "out = dense_b(250,\"encoder250\")(x)\n",
    "# tensor_2 = tf.expand_dims(out, axis=1)\n",
    "# tensor_2 = tf.expand_dims(tensor_2, axis=1)\n",
    "\n",
    "# Tile the tensor along the new dimensions to get shape (None, None, 256)\n",
    "# tensor_3 = tf.tile(tensor_2, multiples=[1, tf.shape(out)[1], 1, 1])\n",
    "# print(tensor_3)\n",
    "model = tf.keras.Model(inputs=inputs, outputs=out)\n",
    "model.summary()"
   ]
  },
  {
   "cell_type": "code",
   "execution_count": 11,
   "id": "f602c73c",
   "metadata": {
    "execution": {
     "iopub.execute_input": "2024-02-23T19:36:07.462115Z",
     "iopub.status.busy": "2024-02-23T19:36:07.461241Z",
     "iopub.status.idle": "2024-02-23T19:36:07.516644Z",
     "shell.execute_reply": "2024-02-23T19:36:07.515769Z"
    },
    "papermill": {
     "duration": 0.073859,
     "end_time": "2024-02-23T19:36:07.519401",
     "exception": false,
     "start_time": "2024-02-23T19:36:07.445542",
     "status": "completed"
    },
    "tags": []
   },
   "outputs": [],
   "source": [
    "# add a decreasing learning rate scheduler to help convergence\n",
    "steps_per_epoch = DS_CARDINALITY - VAL_SIZE\n",
    "boundaries = [steps_per_epoch * n for n in [30,50,70]]\n",
    "values = [1e-3,1e-4,1e-5,1e-6]\n",
    "lr_sched = optimizers.schedules.PiecewiseConstantDecay(boundaries, values)\n",
    "optimizer = optimizers.Adam(lr_sched)\n",
    "\n",
    "model.compile(optimizer=optimizer,\n",
    "              loss=\"sparse_categorical_crossentropy\",\n",
    "              metrics=[\"accuracy\",\"sparse_top_k_categorical_accuracy\"])"
   ]
  },
  {
   "cell_type": "code",
   "execution_count": 12,
   "id": "b2fd4ff2",
   "metadata": {
    "execution": {
     "iopub.execute_input": "2024-02-23T19:36:07.550305Z",
     "iopub.status.busy": "2024-02-23T19:36:07.549946Z",
     "iopub.status.idle": "2024-02-23T20:52:10.117602Z",
     "shell.execute_reply": "2024-02-23T20:52:10.116565Z"
    },
    "papermill": {
     "duration": 4563.575781,
     "end_time": "2024-02-23T20:52:11.109817",
     "exception": false,
     "start_time": "2024-02-23T19:36:07.534036",
     "status": "completed"
    },
    "tags": []
   },
   "outputs": [
    {
     "name": "stdout",
     "output_type": "stream",
     "text": [
      "Epoch 1/150\n",
      "165/165 [==============================] - 148s 681ms/step - loss: 5.2299 - accuracy: 0.0145 - sparse_top_k_categorical_accuracy: 0.0631 - val_loss: 4.7418 - val_accuracy: 0.0329 - val_sparse_top_k_categorical_accuracy: 0.1376 - lr: 0.0010\n",
      "Epoch 2/150\n",
      "165/165 [==============================] - 60s 362ms/step - loss: 4.4962 - accuracy: 0.0606 - sparse_top_k_categorical_accuracy: 0.2051 - val_loss: 4.1107 - val_accuracy: 0.1078 - val_sparse_top_k_categorical_accuracy: 0.3100 - lr: 0.0010\n",
      "Epoch 3/150\n",
      "165/165 [==============================] - 60s 361ms/step - loss: 3.9623 - accuracy: 0.1257 - sparse_top_k_categorical_accuracy: 0.3507 - val_loss: 3.5528 - val_accuracy: 0.1797 - val_sparse_top_k_categorical_accuracy: 0.4603 - lr: 0.0010\n",
      "Epoch 4/150\n",
      "165/165 [==============================] - 60s 361ms/step - loss: 3.3598 - accuracy: 0.2159 - sparse_top_k_categorical_accuracy: 0.5041 - val_loss: 2.9906 - val_accuracy: 0.2905 - val_sparse_top_k_categorical_accuracy: 0.5932 - lr: 0.0010\n",
      "Epoch 5/150\n",
      "165/165 [==============================] - 60s 364ms/step - loss: 2.9318 - accuracy: 0.2960 - sparse_top_k_categorical_accuracy: 0.6044 - val_loss: 2.6173 - val_accuracy: 0.3565 - val_sparse_top_k_categorical_accuracy: 0.6754 - lr: 0.0010\n",
      "Epoch 6/150\n",
      "165/165 [==============================] - 59s 359ms/step - loss: 2.5946 - accuracy: 0.3626 - sparse_top_k_categorical_accuracy: 0.6743 - val_loss: 2.4634 - val_accuracy: 0.4005 - val_sparse_top_k_categorical_accuracy: 0.7013 - lr: 0.0010\n",
      "Epoch 7/150\n",
      "165/165 [==============================] - 60s 362ms/step - loss: 2.3256 - accuracy: 0.4212 - sparse_top_k_categorical_accuracy: 0.7242 - val_loss: 2.2486 - val_accuracy: 0.4401 - val_sparse_top_k_categorical_accuracy: 0.7385 - lr: 0.0010\n",
      "Epoch 8/150\n",
      "165/165 [==============================] - 60s 362ms/step - loss: 2.1398 - accuracy: 0.4593 - sparse_top_k_categorical_accuracy: 0.7569 - val_loss: 2.0033 - val_accuracy: 0.4956 - val_sparse_top_k_categorical_accuracy: 0.7841 - lr: 0.0010\n",
      "Epoch 9/150\n",
      "165/165 [==============================] - 60s 362ms/step - loss: 1.9761 - accuracy: 0.4976 - sparse_top_k_categorical_accuracy: 0.7832 - val_loss: 1.8215 - val_accuracy: 0.5448 - val_sparse_top_k_categorical_accuracy: 0.8021 - lr: 0.0010\n",
      "Epoch 10/150\n",
      "165/165 [==============================] - 60s 362ms/step - loss: 1.8662 - accuracy: 0.5225 - sparse_top_k_categorical_accuracy: 0.7987 - val_loss: 1.7213 - val_accuracy: 0.5666 - val_sparse_top_k_categorical_accuracy: 0.8231 - lr: 0.0010\n",
      "Epoch 11/150\n",
      "165/165 [==============================] - 60s 361ms/step - loss: 1.7617 - accuracy: 0.5471 - sparse_top_k_categorical_accuracy: 0.8150 - val_loss: 1.6757 - val_accuracy: 0.5764 - val_sparse_top_k_categorical_accuracy: 0.8267 - lr: 0.0010\n",
      "Epoch 12/150\n",
      "165/165 [==============================] - 59s 360ms/step - loss: 1.6814 - accuracy: 0.5653 - sparse_top_k_categorical_accuracy: 0.8262 - val_loss: 1.6359 - val_accuracy: 0.5827 - val_sparse_top_k_categorical_accuracy: 0.8346 - lr: 0.0010\n",
      "Epoch 13/150\n",
      "165/165 [==============================] - 60s 361ms/step - loss: 1.6040 - accuracy: 0.5815 - sparse_top_k_categorical_accuracy: 0.8363 - val_loss: 1.6476 - val_accuracy: 0.5856 - val_sparse_top_k_categorical_accuracy: 0.8313 - lr: 0.0010\n",
      "Epoch 14/150\n",
      "165/165 [==============================] - 60s 362ms/step - loss: 1.5555 - accuracy: 0.5939 - sparse_top_k_categorical_accuracy: 0.8434 - val_loss: 1.5294 - val_accuracy: 0.6126 - val_sparse_top_k_categorical_accuracy: 0.8454 - lr: 0.0010\n",
      "Epoch 15/150\n",
      "165/165 [==============================] - 60s 362ms/step - loss: 1.4985 - accuracy: 0.6068 - sparse_top_k_categorical_accuracy: 0.8514 - val_loss: 1.4878 - val_accuracy: 0.6232 - val_sparse_top_k_categorical_accuracy: 0.8543 - lr: 0.0010\n",
      "Epoch 16/150\n",
      "165/165 [==============================] - 60s 362ms/step - loss: 1.4534 - accuracy: 0.6186 - sparse_top_k_categorical_accuracy: 0.8570 - val_loss: 1.4691 - val_accuracy: 0.6307 - val_sparse_top_k_categorical_accuracy: 0.8548 - lr: 0.0010\n",
      "Epoch 17/150\n",
      "165/165 [==============================] - 60s 361ms/step - loss: 1.4046 - accuracy: 0.6280 - sparse_top_k_categorical_accuracy: 0.8645 - val_loss: 1.4466 - val_accuracy: 0.6385 - val_sparse_top_k_categorical_accuracy: 0.8574 - lr: 0.0010\n",
      "Epoch 18/150\n",
      "165/165 [==============================] - 59s 360ms/step - loss: 1.3713 - accuracy: 0.6354 - sparse_top_k_categorical_accuracy: 0.8694 - val_loss: 1.4120 - val_accuracy: 0.6438 - val_sparse_top_k_categorical_accuracy: 0.8603 - lr: 0.0010\n",
      "Epoch 19/150\n",
      "165/165 [==============================] - 60s 362ms/step - loss: 1.3169 - accuracy: 0.6495 - sparse_top_k_categorical_accuracy: 0.8743 - val_loss: 1.3883 - val_accuracy: 0.6495 - val_sparse_top_k_categorical_accuracy: 0.8671 - lr: 0.0010\n",
      "Epoch 20/150\n",
      "165/165 [==============================] - 60s 363ms/step - loss: 1.2801 - accuracy: 0.6583 - sparse_top_k_categorical_accuracy: 0.8789 - val_loss: 1.3496 - val_accuracy: 0.6589 - val_sparse_top_k_categorical_accuracy: 0.8687 - lr: 0.0010\n",
      "Epoch 21/150\n",
      "165/165 [==============================] - 60s 362ms/step - loss: 1.2372 - accuracy: 0.6693 - sparse_top_k_categorical_accuracy: 0.8835 - val_loss: 1.3543 - val_accuracy: 0.6593 - val_sparse_top_k_categorical_accuracy: 0.8689 - lr: 0.0010\n",
      "Epoch 22/150\n",
      "165/165 [==============================] - 60s 363ms/step - loss: 1.2229 - accuracy: 0.6710 - sparse_top_k_categorical_accuracy: 0.8863 - val_loss: 1.3757 - val_accuracy: 0.6506 - val_sparse_top_k_categorical_accuracy: 0.8685 - lr: 0.0010\n",
      "Epoch 23/150\n",
      "165/165 [==============================] - 60s 362ms/step - loss: 1.2052 - accuracy: 0.6776 - sparse_top_k_categorical_accuracy: 0.8892 - val_loss: 1.2923 - val_accuracy: 0.6752 - val_sparse_top_k_categorical_accuracy: 0.8763 - lr: 0.0010\n",
      "Epoch 24/150\n",
      "165/165 [==============================] - 59s 361ms/step - loss: 1.1628 - accuracy: 0.6868 - sparse_top_k_categorical_accuracy: 0.8932 - val_loss: 1.3040 - val_accuracy: 0.6774 - val_sparse_top_k_categorical_accuracy: 0.8753 - lr: 0.0010\n",
      "Epoch 25/150\n",
      "165/165 [==============================] - 60s 362ms/step - loss: 1.1355 - accuracy: 0.6933 - sparse_top_k_categorical_accuracy: 0.8966 - val_loss: 1.3327 - val_accuracy: 0.6648 - val_sparse_top_k_categorical_accuracy: 0.8732 - lr: 0.0010\n",
      "Epoch 26/150\n",
      "165/165 [==============================] - 60s 361ms/step - loss: 1.1030 - accuracy: 0.7005 - sparse_top_k_categorical_accuracy: 0.8997 - val_loss: 1.3542 - val_accuracy: 0.6648 - val_sparse_top_k_categorical_accuracy: 0.8717 - lr: 0.0010\n",
      "Epoch 27/150\n",
      "165/165 [==============================] - 60s 361ms/step - loss: 1.0895 - accuracy: 0.7038 - sparse_top_k_categorical_accuracy: 0.9012 - val_loss: 1.2623 - val_accuracy: 0.6858 - val_sparse_top_k_categorical_accuracy: 0.8818 - lr: 0.0010\n",
      "Epoch 28/150\n",
      "165/165 [==============================] - 60s 361ms/step - loss: 1.0486 - accuracy: 0.7145 - sparse_top_k_categorical_accuracy: 0.9060 - val_loss: 1.2688 - val_accuracy: 0.6887 - val_sparse_top_k_categorical_accuracy: 0.8804 - lr: 0.0010\n",
      "Epoch 29/150\n",
      "165/165 [==============================] - 60s 362ms/step - loss: 1.0351 - accuracy: 0.7186 - sparse_top_k_categorical_accuracy: 0.9071 - val_loss: 1.2485 - val_accuracy: 0.6897 - val_sparse_top_k_categorical_accuracy: 0.8855 - lr: 0.0010\n",
      "Epoch 30/150\n",
      "165/165 [==============================] - 59s 360ms/step - loss: 1.0115 - accuracy: 0.7237 - sparse_top_k_categorical_accuracy: 0.9101 - val_loss: 1.2327 - val_accuracy: 0.6931 - val_sparse_top_k_categorical_accuracy: 0.8872 - lr: 0.0010\n",
      "Epoch 31/150\n",
      "165/165 [==============================] - 60s 363ms/step - loss: 0.8540 - accuracy: 0.7679 - sparse_top_k_categorical_accuracy: 0.9247 - val_loss: 1.1515 - val_accuracy: 0.7180 - val_sparse_top_k_categorical_accuracy: 0.8962 - lr: 1.0000e-04\n",
      "Epoch 32/150\n",
      "165/165 [==============================] - 60s 363ms/step - loss: 0.8203 - accuracy: 0.7790 - sparse_top_k_categorical_accuracy: 0.9275 - val_loss: 1.1465 - val_accuracy: 0.7177 - val_sparse_top_k_categorical_accuracy: 0.8962 - lr: 1.0000e-04\n",
      "Epoch 33/150\n",
      "165/165 [==============================] - 60s 362ms/step - loss: 0.8022 - accuracy: 0.7821 - sparse_top_k_categorical_accuracy: 0.9296 - val_loss: 1.1506 - val_accuracy: 0.7185 - val_sparse_top_k_categorical_accuracy: 0.8945 - lr: 1.0000e-04\n",
      "Epoch 34/150\n",
      "165/165 [==============================] - 60s 362ms/step - loss: 0.7968 - accuracy: 0.7822 - sparse_top_k_categorical_accuracy: 0.9300 - val_loss: 1.1467 - val_accuracy: 0.7201 - val_sparse_top_k_categorical_accuracy: 0.8965 - lr: 1.0000e-04\n",
      "Epoch 35/150\n",
      "165/165 [==============================] - 60s 361ms/step - loss: 0.7859 - accuracy: 0.7883 - sparse_top_k_categorical_accuracy: 0.9300 - val_loss: 1.1451 - val_accuracy: 0.7219 - val_sparse_top_k_categorical_accuracy: 0.8983 - lr: 1.0000e-04\n",
      "Epoch 36/150\n",
      "165/165 [==============================] - 59s 361ms/step - loss: 0.7793 - accuracy: 0.7874 - sparse_top_k_categorical_accuracy: 0.9311 - val_loss: 1.1429 - val_accuracy: 0.7231 - val_sparse_top_k_categorical_accuracy: 0.8966 - lr: 1.0000e-04\n",
      "Epoch 37/150\n",
      "165/165 [==============================] - 60s 362ms/step - loss: 0.7740 - accuracy: 0.7897 - sparse_top_k_categorical_accuracy: 0.9319 - val_loss: 1.1465 - val_accuracy: 0.7229 - val_sparse_top_k_categorical_accuracy: 0.8957 - lr: 1.0000e-04\n",
      "Epoch 38/150\n",
      "165/165 [==============================] - 60s 361ms/step - loss: 0.7705 - accuracy: 0.7912 - sparse_top_k_categorical_accuracy: 0.9315 - val_loss: 1.1454 - val_accuracy: 0.7233 - val_sparse_top_k_categorical_accuracy: 0.8976 - lr: 1.0000e-04\n",
      "Epoch 39/150\n",
      "165/165 [==============================] - 60s 362ms/step - loss: 0.7648 - accuracy: 0.7901 - sparse_top_k_categorical_accuracy: 0.9328 - val_loss: 1.1457 - val_accuracy: 0.7227 - val_sparse_top_k_categorical_accuracy: 0.8967 - lr: 1.0000e-04\n",
      "Epoch 40/150\n",
      "165/165 [==============================] - 60s 362ms/step - loss: 0.7589 - accuracy: 0.7937 - sparse_top_k_categorical_accuracy: 0.9325 - val_loss: 1.1454 - val_accuracy: 0.7219 - val_sparse_top_k_categorical_accuracy: 0.8956 - lr: 1.0000e-04\n",
      "Epoch 41/150\n",
      "165/165 [==============================] - 60s 362ms/step - loss: 0.7539 - accuracy: 0.7951 - sparse_top_k_categorical_accuracy: 0.9336 - val_loss: 1.1381 - val_accuracy: 0.7242 - val_sparse_top_k_categorical_accuracy: 0.8974 - lr: 1.0000e-04\n",
      "Epoch 42/150\n",
      "165/165 [==============================] - 59s 359ms/step - loss: 0.7523 - accuracy: 0.7963 - sparse_top_k_categorical_accuracy: 0.9337 - val_loss: 1.1482 - val_accuracy: 0.7221 - val_sparse_top_k_categorical_accuracy: 0.8966 - lr: 1.0000e-04\n",
      "Epoch 43/150\n",
      "165/165 [==============================] - 60s 360ms/step - loss: 0.7448 - accuracy: 0.7964 - sparse_top_k_categorical_accuracy: 0.9347 - val_loss: 1.1529 - val_accuracy: 0.7232 - val_sparse_top_k_categorical_accuracy: 0.8954 - lr: 1.0000e-04\n",
      "Epoch 44/150\n",
      "165/165 [==============================] - 60s 362ms/step - loss: 0.7439 - accuracy: 0.7981 - sparse_top_k_categorical_accuracy: 0.9341 - val_loss: 1.1458 - val_accuracy: 0.7240 - val_sparse_top_k_categorical_accuracy: 0.8968 - lr: 1.0000e-04\n",
      "Epoch 45/150\n",
      "165/165 [==============================] - 60s 362ms/step - loss: 0.7370 - accuracy: 0.7988 - sparse_top_k_categorical_accuracy: 0.9354 - val_loss: 1.1475 - val_accuracy: 0.7290 - val_sparse_top_k_categorical_accuracy: 0.8968 - lr: 1.0000e-04\n",
      "Epoch 46/150\n",
      "165/165 [==============================] - 60s 363ms/step - loss: 0.7336 - accuracy: 0.7997 - sparse_top_k_categorical_accuracy: 0.9348 - val_loss: 1.1582 - val_accuracy: 0.7254 - val_sparse_top_k_categorical_accuracy: 0.8968 - lr: 1.0000e-04\n",
      "Epoch 47/150\n",
      "165/165 [==============================] - 60s 362ms/step - loss: 0.7321 - accuracy: 0.7996 - sparse_top_k_categorical_accuracy: 0.9356 - val_loss: 1.1498 - val_accuracy: 0.7272 - val_sparse_top_k_categorical_accuracy: 0.8972 - lr: 1.0000e-04\n",
      "Epoch 48/150\n",
      "165/165 [==============================] - 59s 360ms/step - loss: 0.7289 - accuracy: 0.8016 - sparse_top_k_categorical_accuracy: 0.9358 - val_loss: 1.1479 - val_accuracy: 0.7252 - val_sparse_top_k_categorical_accuracy: 0.8977 - lr: 1.0000e-04\n",
      "Epoch 49/150\n",
      "165/165 [==============================] - 60s 361ms/step - loss: 0.7253 - accuracy: 0.8022 - sparse_top_k_categorical_accuracy: 0.9363 - val_loss: 1.1524 - val_accuracy: 0.7278 - val_sparse_top_k_categorical_accuracy: 0.8971 - lr: 1.0000e-04\n",
      "Epoch 50/150\n",
      "165/165 [==============================] - 60s 362ms/step - loss: 0.7220 - accuracy: 0.8029 - sparse_top_k_categorical_accuracy: 0.9365 - val_loss: 1.1524 - val_accuracy: 0.7246 - val_sparse_top_k_categorical_accuracy: 0.8971 - lr: 1.0000e-04\n",
      "Epoch 51/150\n",
      "165/165 [==============================] - 60s 361ms/step - loss: 0.7007 - accuracy: 0.8087 - sparse_top_k_categorical_accuracy: 0.9385 - val_loss: 1.1409 - val_accuracy: 0.7285 - val_sparse_top_k_categorical_accuracy: 0.8981 - lr: 1.0000e-05\n",
      "Epoch 52/150\n",
      "165/165 [==============================] - 60s 362ms/step - loss: 0.7016 - accuracy: 0.8091 - sparse_top_k_categorical_accuracy: 0.9378 - val_loss: 1.1403 - val_accuracy: 0.7289 - val_sparse_top_k_categorical_accuracy: 0.8977 - lr: 1.0000e-05\n",
      "Epoch 53/150\n",
      "165/165 [==============================] - 60s 362ms/step - loss: 0.6960 - accuracy: 0.8116 - sparse_top_k_categorical_accuracy: 0.9388 - val_loss: 1.1398 - val_accuracy: 0.7278 - val_sparse_top_k_categorical_accuracy: 0.8978 - lr: 1.0000e-05\n",
      "Epoch 54/150\n",
      "165/165 [==============================] - 60s 361ms/step - loss: 0.6969 - accuracy: 0.8105 - sparse_top_k_categorical_accuracy: 0.9382 - val_loss: 1.1397 - val_accuracy: 0.7286 - val_sparse_top_k_categorical_accuracy: 0.8982 - lr: 1.0000e-05\n",
      "Epoch 55/150\n",
      "165/165 [==============================] - 60s 360ms/step - loss: 0.6944 - accuracy: 0.8112 - sparse_top_k_categorical_accuracy: 0.9388 - val_loss: 1.1380 - val_accuracy: 0.7295 - val_sparse_top_k_categorical_accuracy: 0.8986 - lr: 1.0000e-05\n",
      "Epoch 56/150\n",
      "165/165 [==============================] - 60s 362ms/step - loss: 0.6983 - accuracy: 0.8103 - sparse_top_k_categorical_accuracy: 0.9386 - val_loss: 1.1392 - val_accuracy: 0.7283 - val_sparse_top_k_categorical_accuracy: 0.8979 - lr: 1.0000e-05\n",
      "Epoch 57/150\n",
      "165/165 [==============================] - 60s 362ms/step - loss: 0.6924 - accuracy: 0.8121 - sparse_top_k_categorical_accuracy: 0.9391 - val_loss: 1.1398 - val_accuracy: 0.7300 - val_sparse_top_k_categorical_accuracy: 0.8985 - lr: 1.0000e-05\n",
      "Epoch 58/150\n",
      "165/165 [==============================] - 60s 362ms/step - loss: 0.6927 - accuracy: 0.8115 - sparse_top_k_categorical_accuracy: 0.9387 - val_loss: 1.1400 - val_accuracy: 0.7299 - val_sparse_top_k_categorical_accuracy: 0.8980 - lr: 1.0000e-05\n",
      "Epoch 59/150\n",
      "165/165 [==============================] - 60s 362ms/step - loss: 0.6937 - accuracy: 0.8102 - sparse_top_k_categorical_accuracy: 0.9389 - val_loss: 1.1417 - val_accuracy: 0.7293 - val_sparse_top_k_categorical_accuracy: 0.8982 - lr: 1.0000e-05\n",
      "Epoch 60/150\n",
      "165/165 [==============================] - 60s 361ms/step - loss: 0.6923 - accuracy: 0.8117 - sparse_top_k_categorical_accuracy: 0.9390 - val_loss: 1.1427 - val_accuracy: 0.7289 - val_sparse_top_k_categorical_accuracy: 0.8982 - lr: 1.0000e-05\n",
      "Epoch 61/150\n",
      "165/165 [==============================] - 60s 360ms/step - loss: 0.6915 - accuracy: 0.8124 - sparse_top_k_categorical_accuracy: 0.9392 - val_loss: 1.1385 - val_accuracy: 0.7287 - val_sparse_top_k_categorical_accuracy: 0.8988 - lr: 1.0000e-05\n",
      "Epoch 62/150\n",
      "165/165 [==============================] - 60s 362ms/step - loss: 0.6963 - accuracy: 0.8103 - sparse_top_k_categorical_accuracy: 0.9385 - val_loss: 1.1416 - val_accuracy: 0.7284 - val_sparse_top_k_categorical_accuracy: 0.8984 - lr: 1.0000e-05\n",
      "Epoch 63/150\n",
      "165/165 [==============================] - 60s 363ms/step - loss: 0.6897 - accuracy: 0.8111 - sparse_top_k_categorical_accuracy: 0.9400 - val_loss: 1.1387 - val_accuracy: 0.7293 - val_sparse_top_k_categorical_accuracy: 0.8988 - lr: 1.0000e-05\n",
      "Epoch 64/150\n",
      "165/165 [==============================] - 60s 363ms/step - loss: 0.6879 - accuracy: 0.8129 - sparse_top_k_categorical_accuracy: 0.9394 - val_loss: 1.1392 - val_accuracy: 0.7288 - val_sparse_top_k_categorical_accuracy: 0.8992 - lr: 1.0000e-05\n",
      "Epoch 65/150\n",
      "165/165 [==============================] - 60s 361ms/step - loss: 0.6911 - accuracy: 0.8119 - sparse_top_k_categorical_accuracy: 0.9391 - val_loss: 1.1427 - val_accuracy: 0.7304 - val_sparse_top_k_categorical_accuracy: 0.8985 - lr: 1.0000e-05\n",
      "Epoch 66/150\n",
      "165/165 [==============================] - 60s 361ms/step - loss: 0.6892 - accuracy: 0.8128 - sparse_top_k_categorical_accuracy: 0.9397 - val_loss: 1.1454 - val_accuracy: 0.7287 - val_sparse_top_k_categorical_accuracy: 0.8973 - lr: 1.0000e-05\n",
      "Epoch 67/150\n",
      "165/165 [==============================] - 59s 360ms/step - loss: 0.6913 - accuracy: 0.8127 - sparse_top_k_categorical_accuracy: 0.9389 - val_loss: 1.1400 - val_accuracy: 0.7293 - val_sparse_top_k_categorical_accuracy: 0.8990 - lr: 1.0000e-05\n",
      "Epoch 68/150\n",
      "165/165 [==============================] - 60s 362ms/step - loss: 0.6886 - accuracy: 0.8122 - sparse_top_k_categorical_accuracy: 0.9400 - val_loss: 1.1405 - val_accuracy: 0.7283 - val_sparse_top_k_categorical_accuracy: 0.8986 - lr: 1.0000e-05\n",
      "Epoch 69/150\n",
      "165/165 [==============================] - 60s 362ms/step - loss: 0.6858 - accuracy: 0.8128 - sparse_top_k_categorical_accuracy: 0.9394 - val_loss: 1.1419 - val_accuracy: 0.7278 - val_sparse_top_k_categorical_accuracy: 0.8987 - lr: 1.0000e-05\n",
      "Epoch 70/150\n",
      "165/165 [==============================] - 60s 362ms/step - loss: 0.6889 - accuracy: 0.8128 - sparse_top_k_categorical_accuracy: 0.9398 - val_loss: 1.1429 - val_accuracy: 0.7284 - val_sparse_top_k_categorical_accuracy: 0.8986 - lr: 1.0000e-05\n",
      "Epoch 71/150\n",
      "165/165 [==============================] - 60s 361ms/step - loss: 0.6856 - accuracy: 0.8130 - sparse_top_k_categorical_accuracy: 0.9402 - val_loss: 1.1402 - val_accuracy: 0.7289 - val_sparse_top_k_categorical_accuracy: 0.8983 - lr: 1.0000e-06\n",
      "Epoch 72/150\n",
      "165/165 [==============================] - 60s 362ms/step - loss: 0.6880 - accuracy: 0.8128 - sparse_top_k_categorical_accuracy: 0.9394 - val_loss: 1.1400 - val_accuracy: 0.7294 - val_sparse_top_k_categorical_accuracy: 0.8986 - lr: 1.0000e-06\n",
      "Epoch 73/150\n",
      "165/165 [==============================] - 59s 360ms/step - loss: 0.6850 - accuracy: 0.8147 - sparse_top_k_categorical_accuracy: 0.9404 - val_loss: 1.1399 - val_accuracy: 0.7290 - val_sparse_top_k_categorical_accuracy: 0.8988 - lr: 1.0000e-06\n",
      "Epoch 74/150\n",
      "165/165 [==============================] - 60s 362ms/step - loss: 0.6834 - accuracy: 0.8140 - sparse_top_k_categorical_accuracy: 0.9402 - val_loss: 1.1409 - val_accuracy: 0.7293 - val_sparse_top_k_categorical_accuracy: 0.8984 - lr: 1.0000e-06\n",
      "Epoch 75/150\n",
      "165/165 [==============================] - 60s 363ms/step - loss: 0.6836 - accuracy: 0.8121 - sparse_top_k_categorical_accuracy: 0.9401 - val_loss: 1.1399 - val_accuracy: 0.7293 - val_sparse_top_k_categorical_accuracy: 0.8990 - lr: 1.0000e-06\n"
     ]
    },
    {
     "data": {
      "text/plain": [
       "<keras.callbacks.History at 0x7d639c29e990>"
      ]
     },
     "execution_count": 12,
     "metadata": {},
     "output_type": "execute_result"
    }
   ],
   "source": [
    "# USE_VAL = False\n",
    "# if \n",
    "# if \n",
    "# fit the model with 100 epochs iteration\n",
    "model.fit(train_ds,\n",
    "          validation_data = val_ds,\n",
    "          callbacks = get_callbacks(),\n",
    "          epochs = 150)"
   ]
  },
  {
   "cell_type": "markdown",
   "id": "653bdec6",
   "metadata": {
    "papermill": {
     "duration": 0.996513,
     "end_time": "2024-02-23T20:52:13.214434",
     "exception": false,
     "start_time": "2024-02-23T20:52:12.217921",
     "status": "completed"
    },
    "tags": []
   },
   "source": [
    "Epoch 67/150\n",
    "165/165 [==============================] - 61s 372ms/step - loss: 0.7207 - accuracy: 0.8041 - sparse_top_k_categorical_accuracy: 0.9363 - val_loss: 1.1879 - val_accuracy: 0.7181 - val_sparse_top_k_categorical_accuracy: 0.8932 - lr: 1.0000e-05"
   ]
  },
  {
   "cell_type": "code",
   "execution_count": 13,
   "id": "6e7dd2dc",
   "metadata": {
    "execution": {
     "iopub.execute_input": "2024-02-23T20:52:15.257223Z",
     "iopub.status.busy": "2024-02-23T20:52:15.256219Z",
     "iopub.status.idle": "2024-02-23T20:52:15.355695Z",
     "shell.execute_reply": "2024-02-23T20:52:15.354648Z"
    },
    "papermill": {
     "duration": 1.088414,
     "end_time": "2024-02-23T20:52:15.358282",
     "exception": false,
     "start_time": "2024-02-23T20:52:14.269868",
     "status": "completed"
    },
    "tags": []
   },
   "outputs": [],
   "source": [
    "model.save('lstm.h5')"
   ]
  },
  {
   "cell_type": "markdown",
   "id": "616a9258",
   "metadata": {
    "papermill": {
     "duration": 1.029697,
     "end_time": "2024-02-23T20:52:17.449596",
     "exception": false,
     "start_time": "2024-02-23T20:52:16.419899",
     "status": "completed"
    },
    "tags": []
   },
   "source": [
    "<a id=\"section-five\"></a>\n",
    "# Submit Model"
   ]
  },
  {
   "cell_type": "markdown",
   "id": "7a02dc90",
   "metadata": {
    "papermill": {
     "duration": 1.06372,
     "end_time": "2024-02-23T20:52:19.508055",
     "exception": false,
     "start_time": "2024-02-23T20:52:18.444335",
     "status": "completed"
    },
    "tags": []
   },
   "source": [
    "Now it is time to submit. In this competition, we should submit the model itself."
   ]
  },
  {
   "cell_type": "code",
   "execution_count": 14,
   "id": "b066474b",
   "metadata": {
    "execution": {
     "iopub.execute_input": "2024-02-23T20:52:21.581833Z",
     "iopub.status.busy": "2024-02-23T20:52:21.580785Z",
     "iopub.status.idle": "2024-02-23T20:52:21.624119Z",
     "shell.execute_reply": "2024-02-23T20:52:21.623027Z"
    },
    "papermill": {
     "duration": 1.13907,
     "end_time": "2024-02-23T20:52:21.637129",
     "exception": false,
     "start_time": "2024-02-23T20:52:20.498059",
     "status": "completed"
    },
    "tags": []
   },
   "outputs": [
    {
     "name": "stdout",
     "output_type": "stream",
     "text": [
      "Model: \"model\"\n",
      "_________________________________________________________________\n",
      " Layer (type)                Output Shape              Param #   \n",
      "=================================================================\n",
      " input_1 (InputLayer)        [(None, None, 354)]       0         \n",
      "                                                                 \n",
      " dense (Dense)               (None, None, 512)         181760    \n",
      "                                                                 \n",
      " layer_normalization (LayerN  (None, None, 512)        1024      \n",
      " ormalization)                                                   \n",
      "                                                                 \n",
      " activation (Activation)     (None, None, 512)         0         \n",
      "                                                                 \n",
      " dense_1 (Dense)             (None, None, 256)         131328    \n",
      "                                                                 \n",
      " layer_normalization_1 (Laye  (None, None, 256)        512       \n",
      " rNormalization)                                                 \n",
      "                                                                 \n",
      " activation_1 (Activation)   (None, None, 256)         0         \n",
      "                                                                 \n",
      " dropout (Dropout)           (None, None, 256)         0         \n",
      "                                                                 \n",
      " lstm (LSTM)                 (None, None, 256)         525312    \n",
      "                                                                 \n",
      " dropout_1 (Dropout)         (None, None, 256)         0         \n",
      "                                                                 \n",
      " lstm_1 (LSTM)               (None, 256)               525312    \n",
      "                                                                 \n",
      " dropout_2 (Dropout)         (None, 256)               0         \n",
      "                                                                 \n",
      " dense_2 (Dense)             (None, 256)               65792     \n",
      "                                                                 \n",
      " dense_3 (Dense)             (None, 250)               64250     \n",
      "                                                                 \n",
      "=================================================================\n",
      "Total params: 1,495,290\n",
      "Trainable params: 1,495,290\n",
      "Non-trainable params: 0\n",
      "_________________________________________________________________\n"
     ]
    }
   ],
   "source": [
    "model.summary(expand_nested=True)"
   ]
  },
  {
   "cell_type": "code",
   "execution_count": 15,
   "id": "dae96ebd",
   "metadata": {
    "execution": {
     "iopub.execute_input": "2024-02-23T20:52:23.611561Z",
     "iopub.status.busy": "2024-02-23T20:52:23.610658Z",
     "iopub.status.idle": "2024-02-23T20:52:23.619995Z",
     "shell.execute_reply": "2024-02-23T20:52:23.619149Z"
    },
    "papermill": {
     "duration": 0.997321,
     "end_time": "2024-02-23T20:52:23.622125",
     "exception": false,
     "start_time": "2024-02-23T20:52:22.624804",
     "status": "completed"
    },
    "tags": []
   },
   "outputs": [],
   "source": [
    "def get_inference_model(model):\n",
    "    inputs = tf.keras.Input(shape=(ROWS_PER_FRAME,3), name=\"inputs\")\n",
    "    \n",
    "    # drop most of the face mesh\n",
    "    x = tf.gather(inputs, LANDMARK_IDX, axis=1)\n",
    "\n",
    "    # fill nan\n",
    "    x = tf.where(tf.math.is_nan(x), tf.zeros_like(x), x)\n",
    "\n",
    "    # flatten landmark xyz coordinates ()\n",
    "    x = tf.concat([x[...,i] for i in range(3)], -1)\n",
    "\n",
    "    x = tf.expand_dims(x,0)\n",
    "    \n",
    "    # call trained model\n",
    "    out = model(x)\n",
    "    \n",
    "    # explicitly name the final (identity) layer for the submission format\n",
    "    out = layers.Activation(\"linear\", name=\"outputs\")(out)\n",
    "    \n",
    "    inference_model = tf.keras.Model(inputs=inputs, outputs=out)\n",
    "    inference_model.compile(loss=\"sparse_categorical_crossentropy\",\n",
    "                            metrics=\"accuracy\")\n",
    "    return inference_model"
   ]
  },
  {
   "cell_type": "code",
   "execution_count": 16,
   "id": "65c7a486",
   "metadata": {
    "execution": {
     "iopub.execute_input": "2024-02-23T20:52:25.723842Z",
     "iopub.status.busy": "2024-02-23T20:52:25.723419Z",
     "iopub.status.idle": "2024-02-23T20:52:26.430477Z",
     "shell.execute_reply": "2024-02-23T20:52:26.429051Z"
    },
    "papermill": {
     "duration": 1.774488,
     "end_time": "2024-02-23T20:52:26.443490",
     "exception": false,
     "start_time": "2024-02-23T20:52:24.669002",
     "status": "completed"
    },
    "tags": []
   },
   "outputs": [
    {
     "name": "stdout",
     "output_type": "stream",
     "text": [
      "Model: \"model_1\"\n",
      "__________________________________________________________________________________________________\n",
      " Layer (type)                   Output Shape         Param #     Connected to                     \n",
      "==================================================================================================\n",
      " inputs (InputLayer)            [(None, 543, 3)]     0           []                               \n",
      "                                                                                                  \n",
      " tf.compat.v1.gather (TFOpLambd  (None, 118, 3)      0           ['inputs[0][0]']                 \n",
      " a)                                                                                               \n",
      "                                                                                                  \n",
      " tf.math.is_nan (TFOpLambda)    (None, 118, 3)       0           ['tf.compat.v1.gather[0][0]']    \n",
      "                                                                                                  \n",
      " tf.zeros_like (TFOpLambda)     (None, 118, 3)       0           ['tf.compat.v1.gather[0][0]']    \n",
      "                                                                                                  \n",
      " tf.where (TFOpLambda)          (None, 118, 3)       0           ['tf.math.is_nan[0][0]',         \n",
      "                                                                  'tf.zeros_like[0][0]',          \n",
      "                                                                  'tf.compat.v1.gather[0][0]']    \n",
      "                                                                                                  \n",
      " tf.__operators__.getitem (Slic  (None, 118)         0           ['tf.where[0][0]']               \n",
      " ingOpLambda)                                                                                     \n",
      "                                                                                                  \n",
      " tf.__operators__.getitem_1 (Sl  (None, 118)         0           ['tf.where[0][0]']               \n",
      " icingOpLambda)                                                                                   \n",
      "                                                                                                  \n",
      " tf.__operators__.getitem_2 (Sl  (None, 118)         0           ['tf.where[0][0]']               \n",
      " icingOpLambda)                                                                                   \n",
      "                                                                                                  \n",
      " tf.concat (TFOpLambda)         (None, 354)          0           ['tf.__operators__.getitem[0][0]'\n",
      "                                                                 , 'tf.__operators__.getitem_1[0][\n",
      "                                                                 0]',                             \n",
      "                                                                  'tf.__operators__.getitem_2[0][0\n",
      "                                                                 ]']                              \n",
      "                                                                                                  \n",
      " tf.expand_dims (TFOpLambda)    (1, None, 354)       0           ['tf.concat[0][0]']              \n",
      "                                                                                                  \n",
      " model (Functional)             (None, 250)          1495290     ['tf.expand_dims[0][0]']         \n",
      "|¯¯¯¯¯¯¯¯¯¯¯¯¯¯¯¯¯¯¯¯¯¯¯¯¯¯¯¯¯¯¯¯¯¯¯¯¯¯¯¯¯¯¯¯¯¯¯¯¯¯¯¯¯¯¯¯¯¯¯¯¯¯¯¯¯¯¯¯¯¯¯¯¯¯¯¯¯¯¯¯¯¯¯¯¯¯¯¯¯¯¯¯¯¯¯¯|\n",
      "| input_1 (InputLayer)         [(None, None, 354)]  0           []                               |\n",
      "|                                                                                                |\n",
      "| dense (Dense)                (None, None, 512)    181760      []                               |\n",
      "|                                                                                                |\n",
      "| layer_normalization (LayerNorm  (None, None, 512)  1024       []                               |\n",
      "| alization)                                                                                     |\n",
      "|                                                                                                |\n",
      "| activation (Activation)      (None, None, 512)    0           []                               |\n",
      "|                                                                                                |\n",
      "| dense_1 (Dense)              (None, None, 256)    131328      []                               |\n",
      "|                                                                                                |\n",
      "| layer_normalization_1 (LayerNo  (None, None, 256)  512        []                               |\n",
      "| rmalization)                                                                                   |\n",
      "|                                                                                                |\n",
      "| activation_1 (Activation)    (None, None, 256)    0           []                               |\n",
      "|                                                                                                |\n",
      "| dropout (Dropout)            (None, None, 256)    0           []                               |\n",
      "|                                                                                                |\n",
      "| lstm (LSTM)                  (None, None, 256)    525312      []                               |\n",
      "|                                                                                                |\n",
      "| dropout_1 (Dropout)          (None, None, 256)    0           []                               |\n",
      "|                                                                                                |\n",
      "| lstm_1 (LSTM)                (None, 256)          525312      []                               |\n",
      "|                                                                                                |\n",
      "| dropout_2 (Dropout)          (None, 256)          0           []                               |\n",
      "|                                                                                                |\n",
      "| dense_2 (Dense)              (None, 256)          65792       []                               |\n",
      "|                                                                                                |\n",
      "| dense_3 (Dense)              (None, 250)          64250       []                               |\n",
      "¯¯¯¯¯¯¯¯¯¯¯¯¯¯¯¯¯¯¯¯¯¯¯¯¯¯¯¯¯¯¯¯¯¯¯¯¯¯¯¯¯¯¯¯¯¯¯¯¯¯¯¯¯¯¯¯¯¯¯¯¯¯¯¯¯¯¯¯¯¯¯¯¯¯¯¯¯¯¯¯¯¯¯¯¯¯¯¯¯¯¯¯¯¯¯¯¯¯\n",
      " outputs (Activation)           (1, 250)             0           ['model[0][0]']                  \n",
      "                                                                                                  \n",
      "==================================================================================================\n",
      "Total params: 1,495,290\n",
      "Trainable params: 1,495,290\n",
      "Non-trainable params: 0\n",
      "__________________________________________________________________________________________________\n"
     ]
    }
   ],
   "source": [
    "inference_model = get_inference_model(model)\n",
    "inference_model.summary(expand_nested=True)"
   ]
  },
  {
   "cell_type": "code",
   "execution_count": 17,
   "id": "ac4c4728",
   "metadata": {
    "execution": {
     "iopub.execute_input": "2024-02-23T20:52:28.434775Z",
     "iopub.status.busy": "2024-02-23T20:52:28.434355Z",
     "iopub.status.idle": "2024-02-23T20:52:52.725577Z",
     "shell.execute_reply": "2024-02-23T20:52:52.724171Z"
    },
    "papermill": {
     "duration": 25.286945,
     "end_time": "2024-02-23T20:52:52.728293",
     "exception": false,
     "start_time": "2024-02-23T20:52:27.441348",
     "status": "completed"
    },
    "tags": []
   },
   "outputs": [
    {
     "name": "stdout",
     "output_type": "stream",
     "text": [
      "  adding: model.tflite (deflated 8%)\r\n"
     ]
    }
   ],
   "source": [
    "# save the model\n",
    "converter = tf.lite.TFLiteConverter.from_keras_model(inference_model)\n",
    "tflite_model = converter.convert()\n",
    "model_path = \"model.tflite\"\n",
    "\n",
    "# submit the model\n",
    "with open(model_path, 'wb') as f:\n",
    "    f.write(tflite_model)\n",
    "!zip submission.zip $model_path"
   ]
  },
  {
   "cell_type": "code",
   "execution_count": null,
   "id": "662713a8",
   "metadata": {
    "papermill": {
     "duration": 0.992994,
     "end_time": "2024-02-23T20:52:54.780864",
     "exception": false,
     "start_time": "2024-02-23T20:52:53.787870",
     "status": "completed"
    },
    "tags": []
   },
   "outputs": [],
   "source": []
  }
 ],
 "metadata": {
  "kaggle": {
   "accelerator": "gpu",
   "dataSources": [
    {
     "databundleVersionId": 5087314,
     "sourceId": 46105,
     "sourceType": "competition"
    },
    {
     "datasetId": 2950885,
     "sourceId": 5082760,
     "sourceType": "datasetVersion"
    }
   ],
   "dockerImageVersionId": 30408,
   "isGpuEnabled": true,
   "isInternetEnabled": true,
   "language": "python",
   "sourceType": "notebook"
  },
  "kernelspec": {
   "display_name": "Python 3 (ipykernel)",
   "language": "python",
   "name": "python3"
  },
  "language_info": {
   "codemirror_mode": {
    "name": "ipython",
    "version": 3
   },
   "file_extension": ".py",
   "mimetype": "text/x-python",
   "name": "python",
   "nbconvert_exporter": "python",
   "pygments_lexer": "ipython3",
   "version": "3.10.4"
  },
  "papermill": {
   "default_parameters": {},
   "duration": 4637.870873,
   "end_time": "2024-02-23T20:53:00.108705",
   "environment_variables": {},
   "exception": null,
   "input_path": "__notebook__.ipynb",
   "output_path": "__notebook__.ipynb",
   "parameters": {},
   "start_time": "2024-02-23T19:35:42.237832",
   "version": "2.4.0"
  }
 },
 "nbformat": 4,
 "nbformat_minor": 5
}
